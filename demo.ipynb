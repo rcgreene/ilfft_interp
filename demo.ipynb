{
 "cells": [
  {
   "cell_type": "code",
   "execution_count": 20,
   "id": "7e252025",
   "metadata": {},
   "outputs": [],
   "source": [
    "import numpy as np\n",
    "import matplotlib.pyplot as plt\n",
    "import test\n",
    "%matplotlib tk\n",
    "\n",
    "import blp_fft\n",
    "# Example to plot the bases of the example lattices. Each point in the graph represent\n",
    "# A chebyshev basis function\n",
    "\n",
    "#One quadrant of a (nearly) regular hexagon\n",
    "U = blp_fft.HexLattice(2)\n",
    "U.plot_basis()\n",
    "\n",
    "#One quadrant of the L_1 ball in 2d\n",
    "U = blp_fft.PadLattice(10)\n",
    "U.plot_basis()\n",
    "\n",
    "#one quadrant of a rhombic dodecahedron, which is a stellation of an octahedron\n",
    "U = blp_fft.BCCLattice(7)\n",
    "U.plot_basis()\n",
    "\n",
    "#one quadrant of a truncated octahedron\n",
    "U = blp_fft.FCCLattice(6)\n",
    "U.plot_basis()"
   ]
  },
  {
   "cell_type": "code",
   "execution_count": 7,
   "id": "fde6c94a",
   "metadata": {},
   "outputs": [],
   "source": [
    "import numpy as np\n",
    "import matplotlib.pyplot as plt\n",
    "import test\n",
    "import blp_fft as bf\n",
    "%matplotlib tk\n",
    "\n",
    "# Compare integration accuracy of the Padua and Hex lattices. (The hex points are not c)\n",
    "x_0 = -.7\n",
    "y_0 = .3\n",
    "\n",
    "f = lambda x, y: 72*(x - x_0)*(y - y_0)/((1 + 3*(x_0 - x)**2 + 3*(y_0 - y)**2)**3)\n",
    "I = 0\n",
    "\n",
    "for i, j in np.ndindex((2, 2)):\n",
    "    i = 2*i - 1\n",
    "    j = 2*j - 1\n",
    "    u = 1 + 3*(i - y_0)**2 + 3*(j - x_0)**2\n",
    "    I += i*j/u\n",
    "\n",
    "pad_pcount = []\n",
    "pad_error  = []\n",
    "for i in range(2, 150, 5):\n",
    "    U = bf.PadLattice(i)\n",
    "    U.eval_func(f)\n",
    "    pad_pcount.append(U.get_point_count())\n",
    "    pad_error.append(np.abs(I - U.get_integral()))\n",
    "    \n",
    "hex_pcount = []\n",
    "hex_error  = []\n",
    "for i in range(1, 19):\n",
    "    U = bf.HexLattice(i)\n",
    "    U.eval_func(f)\n",
    "    hex_pcount.append(U.get_point_count())\n",
    "    hex_error.append(np.abs(I - U.get_integral()))\n",
    "    \n",
    "plt.semilogy(np.sqrt(np.array(pad_pcount)), pad_error)\n",
    "plt.semilogy(np.sqrt(np.array(hex_pcount)), hex_error)\n",
    "plt.show()"
   ]
  },
  {
   "cell_type": "code",
   "execution_count": null,
   "id": "a8c2351f",
   "metadata": {},
   "outputs": [],
   "source": []
  }
 ],
 "metadata": {
  "kernelspec": {
   "display_name": "Python 3 (ipykernel)",
   "language": "python",
   "name": "python3"
  },
  "language_info": {
   "codemirror_mode": {
    "name": "ipython",
    "version": 3
   },
   "file_extension": ".py",
   "mimetype": "text/x-python",
   "name": "python",
   "nbconvert_exporter": "python",
   "pygments_lexer": "ipython3",
   "version": "3.10.12"
  }
 },
 "nbformat": 4,
 "nbformat_minor": 5
}
